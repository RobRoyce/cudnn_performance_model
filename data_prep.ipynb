{
 "cells": [
  {
   "cell_type": "code",
   "execution_count": 8,
   "metadata": {},
   "outputs": [],
   "source": [
    "import pandas as pd\n",
    "import numpy as np\n",
    "import sklearn.preprocessing\n",
    "from sklearn.neural_network import MLPRegressor\n",
    "from sklearn.model_selection import train_test_split\n",
    "from sklearn.preprocessing import OneHotEncoder, StandardScaler"
   ]
  },
  {
   "cell_type": "code",
   "execution_count": 9,
   "metadata": {},
   "outputs": [
    {
     "data": {
      "text/plain": "        w    h    c   n   k  f_w  f_h  pad_w  pad_h  stride_w  stride_h  \\\n0      16   16    1   1   1    2    2      1      1         1         1   \n1      16   16    1   1   2    2    2      1      1         1         1   \n2      16   16    1   1   4    2    2      1      1         1         1   \n3      16   16    1   1   8    2    2      1      1         1         1   \n4      16   16    1   1  16    2    2      1      1         1         1   \n...   ...  ...  ...  ..  ..  ...  ...    ...    ...       ...       ...   \n1886  512  512  256  16   8    2    2      1      1         1         1   \n1887  512  512  256  16  16    2    2      1      1         1         1   \n1888  512  512  256  16  32    2    2      1      1         1         1   \n1889  512  512  256  16  64    2    2      1      1         1         1   \n1890    1    1    1   1   1    1    1      1      1         1         1   \n\n     precision  fwd_time(usec)               fwd_algo  \n0        float               6                   GEMM  \n1        float               6                   GEMM  \n2        float               6  IMPLICIT_PRECOMP_GEMM  \n3        float               6                   GEMM  \n4        float               6                   GEMM  \n...        ...             ...                    ...  \n1886     float           35411  IMPLICIT_PRECOMP_GEMM  \n1887     float           36332  IMPLICIT_PRECOMP_GEMM  \n1888     float           39693  IMPLICIT_PRECOMP_GEMM  \n1889     float           70002  IMPLICIT_PRECOMP_GEMM  \n1890     float               6  IMPLICIT_PRECOMP_GEMM  \n\n[1891 rows x 14 columns]",
      "text/html": "<div>\n<style scoped>\n    .dataframe tbody tr th:only-of-type {\n        vertical-align: middle;\n    }\n\n    .dataframe tbody tr th {\n        vertical-align: top;\n    }\n\n    .dataframe thead th {\n        text-align: right;\n    }\n</style>\n<table border=\"1\" class=\"dataframe\">\n  <thead>\n    <tr style=\"text-align: right;\">\n      <th></th>\n      <th>w</th>\n      <th>h</th>\n      <th>c</th>\n      <th>n</th>\n      <th>k</th>\n      <th>f_w</th>\n      <th>f_h</th>\n      <th>pad_w</th>\n      <th>pad_h</th>\n      <th>stride_w</th>\n      <th>stride_h</th>\n      <th>precision</th>\n      <th>fwd_time(usec)</th>\n      <th>fwd_algo</th>\n    </tr>\n  </thead>\n  <tbody>\n    <tr>\n      <th>0</th>\n      <td>16</td>\n      <td>16</td>\n      <td>1</td>\n      <td>1</td>\n      <td>1</td>\n      <td>2</td>\n      <td>2</td>\n      <td>1</td>\n      <td>1</td>\n      <td>1</td>\n      <td>1</td>\n      <td>float</td>\n      <td>6</td>\n      <td>GEMM</td>\n    </tr>\n    <tr>\n      <th>1</th>\n      <td>16</td>\n      <td>16</td>\n      <td>1</td>\n      <td>1</td>\n      <td>2</td>\n      <td>2</td>\n      <td>2</td>\n      <td>1</td>\n      <td>1</td>\n      <td>1</td>\n      <td>1</td>\n      <td>float</td>\n      <td>6</td>\n      <td>GEMM</td>\n    </tr>\n    <tr>\n      <th>2</th>\n      <td>16</td>\n      <td>16</td>\n      <td>1</td>\n      <td>1</td>\n      <td>4</td>\n      <td>2</td>\n      <td>2</td>\n      <td>1</td>\n      <td>1</td>\n      <td>1</td>\n      <td>1</td>\n      <td>float</td>\n      <td>6</td>\n      <td>IMPLICIT_PRECOMP_GEMM</td>\n    </tr>\n    <tr>\n      <th>3</th>\n      <td>16</td>\n      <td>16</td>\n      <td>1</td>\n      <td>1</td>\n      <td>8</td>\n      <td>2</td>\n      <td>2</td>\n      <td>1</td>\n      <td>1</td>\n      <td>1</td>\n      <td>1</td>\n      <td>float</td>\n      <td>6</td>\n      <td>GEMM</td>\n    </tr>\n    <tr>\n      <th>4</th>\n      <td>16</td>\n      <td>16</td>\n      <td>1</td>\n      <td>1</td>\n      <td>16</td>\n      <td>2</td>\n      <td>2</td>\n      <td>1</td>\n      <td>1</td>\n      <td>1</td>\n      <td>1</td>\n      <td>float</td>\n      <td>6</td>\n      <td>GEMM</td>\n    </tr>\n    <tr>\n      <th>...</th>\n      <td>...</td>\n      <td>...</td>\n      <td>...</td>\n      <td>...</td>\n      <td>...</td>\n      <td>...</td>\n      <td>...</td>\n      <td>...</td>\n      <td>...</td>\n      <td>...</td>\n      <td>...</td>\n      <td>...</td>\n      <td>...</td>\n      <td>...</td>\n    </tr>\n    <tr>\n      <th>1886</th>\n      <td>512</td>\n      <td>512</td>\n      <td>256</td>\n      <td>16</td>\n      <td>8</td>\n      <td>2</td>\n      <td>2</td>\n      <td>1</td>\n      <td>1</td>\n      <td>1</td>\n      <td>1</td>\n      <td>float</td>\n      <td>35411</td>\n      <td>IMPLICIT_PRECOMP_GEMM</td>\n    </tr>\n    <tr>\n      <th>1887</th>\n      <td>512</td>\n      <td>512</td>\n      <td>256</td>\n      <td>16</td>\n      <td>16</td>\n      <td>2</td>\n      <td>2</td>\n      <td>1</td>\n      <td>1</td>\n      <td>1</td>\n      <td>1</td>\n      <td>float</td>\n      <td>36332</td>\n      <td>IMPLICIT_PRECOMP_GEMM</td>\n    </tr>\n    <tr>\n      <th>1888</th>\n      <td>512</td>\n      <td>512</td>\n      <td>256</td>\n      <td>16</td>\n      <td>32</td>\n      <td>2</td>\n      <td>2</td>\n      <td>1</td>\n      <td>1</td>\n      <td>1</td>\n      <td>1</td>\n      <td>float</td>\n      <td>39693</td>\n      <td>IMPLICIT_PRECOMP_GEMM</td>\n    </tr>\n    <tr>\n      <th>1889</th>\n      <td>512</td>\n      <td>512</td>\n      <td>256</td>\n      <td>16</td>\n      <td>64</td>\n      <td>2</td>\n      <td>2</td>\n      <td>1</td>\n      <td>1</td>\n      <td>1</td>\n      <td>1</td>\n      <td>float</td>\n      <td>70002</td>\n      <td>IMPLICIT_PRECOMP_GEMM</td>\n    </tr>\n    <tr>\n      <th>1890</th>\n      <td>1</td>\n      <td>1</td>\n      <td>1</td>\n      <td>1</td>\n      <td>1</td>\n      <td>1</td>\n      <td>1</td>\n      <td>1</td>\n      <td>1</td>\n      <td>1</td>\n      <td>1</td>\n      <td>float</td>\n      <td>6</td>\n      <td>IMPLICIT_PRECOMP_GEMM</td>\n    </tr>\n  </tbody>\n</table>\n<p>1891 rows × 14 columns</p>\n</div>"
     },
     "execution_count": 9,
     "metadata": {},
     "output_type": "execute_result"
    }
   ],
   "source": [
    "df = pd.read_csv('results/cudnn/float.out', delim_whitespace=True)\n",
    "df"
   ]
  },
  {
   "cell_type": "code",
   "execution_count": 10,
   "outputs": [],
   "source": [
    "X = df.drop(columns=['fwd_time(usec)'])\n",
    "y = df['fwd_time(usec)']\n",
    "\n",
    "precision = pd.get_dummies(X.precision)\n",
    "fwd_algo = pd.get_dummies(X.fwd_algo)\n",
    "X.drop(columns=['precision', 'fwd_algo'], inplace=True)"
   ],
   "metadata": {
    "collapsed": false,
    "pycharm": {
     "name": "#%%\n"
    }
   }
  },
  {
   "cell_type": "code",
   "execution_count": 11,
   "outputs": [],
   "source": [
    "ss = StandardScaler()\n",
    "X = ss.fit_transform(X)\n",
    "y = ss.fit_transform(np.array(y).reshape(-1,1))\n",
    "X_train, X_test, y_train, y_test = train_test_split(X, y)"
   ],
   "metadata": {
    "collapsed": false,
    "pycharm": {
     "name": "#%%\n"
    }
   }
  },
  {
   "cell_type": "code",
   "execution_count": 12,
   "outputs": [
    {
     "name": "stderr",
     "output_type": "stream",
     "text": [
      "/Users/rob/PycharmProjects/cudnn_performance_model/venv/lib/python3.8/site-packages/sklearn/utils/validation.py:63: DataConversionWarning: A column-vector y was passed when a 1d array was expected. Please change the shape of y to (n_samples, ), for example using ravel().\n",
      "  return f(*args, **kwargs)\n",
      "/Users/rob/PycharmProjects/cudnn_performance_model/venv/lib/python3.8/site-packages/sklearn/neural_network/_multilayer_perceptron.py:614: ConvergenceWarning: Stochastic Optimizer: Maximum iterations (200) reached and the optimization hasn't converged yet.\n",
      "  warnings.warn(\n"
     ]
    }
   ],
   "source": [
    "clf = MLPRegressor().fit(X_train, y_train)"
   ],
   "metadata": {
    "collapsed": false,
    "pycharm": {
     "name": "#%%\n"
    }
   }
  },
  {
   "cell_type": "code",
   "execution_count": 13,
   "outputs": [],
   "source": [
    "score = clf.score(X_test, y_test)"
   ],
   "metadata": {
    "collapsed": false,
    "pycharm": {
     "name": "#%%\n"
    }
   }
  },
  {
   "cell_type": "code",
   "execution_count": 14,
   "outputs": [
    {
     "data": {
      "text/plain": "0.9344911124658086"
     },
     "execution_count": 14,
     "metadata": {},
     "output_type": "execute_result"
    }
   ],
   "source": [
    "score"
   ],
   "metadata": {
    "collapsed": false,
    "pycharm": {
     "name": "#%%\n"
    }
   }
  },
  {
   "cell_type": "code",
   "execution_count": 14,
   "outputs": [],
   "source": [],
   "metadata": {
    "collapsed": false,
    "pycharm": {
     "name": "#%%\n"
    }
   }
  }
 ],
 "metadata": {
  "kernelspec": {
   "display_name": "Python 3",
   "language": "python",
   "name": "python3"
  },
  "language_info": {
   "codemirror_mode": {
    "name": "ipython",
    "version": 3
   },
   "file_extension": ".py",
   "mimetype": "text/x-python",
   "name": "python",
   "nbconvert_exporter": "python",
   "pygments_lexer": "ipython3",
   "version": "3.8.3"
  }
 },
 "nbformat": 4,
 "nbformat_minor": 4
}